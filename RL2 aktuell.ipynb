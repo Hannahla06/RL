{
 "cells": [
  {
   "cell_type": "code",
   "execution_count": 18,
   "metadata": {},
   "outputs": [],
   "source": [
    "#Bibiotheken importieren \n",
    "\n",
    "import gym\n",
    "import numpy as np\n",
    "import random\n",
    "from IPython.display import clear_output"
   ]
  },
  {
   "cell_type": "code",
   "execution_count": 19,
   "metadata": {},
   "outputs": [],
   "source": [
    "#CliffWalking Umgebung von OpenAI gym aufsetzen \n",
    "\n",
    "env = gym.make('CliffWalking-v0', render_mode = \"human\")"
   ]
  },
  {
   "cell_type": "code",
   "execution_count": 20,
   "metadata": {},
   "outputs": [
    {
     "name": "stdout",
     "output_type": "stream",
     "text": [
      "Discrete(48)\n",
      "Discrete(4)\n"
     ]
    }
   ],
   "source": [
    "#Zusandsvariablen für die Q - Tabelle ermitteln \n",
    "\n",
    "print (env.observation_space) #es gibt 48 Zustandsvariablen \n",
    "print (env.action_space) #es gibt 4 Aktionen"
   ]
  },
  {
   "cell_type": "code",
   "execution_count": 21,
   "metadata": {},
   "outputs": [
    {
     "name": "stdout",
     "output_type": "stream",
     "text": [
      "[[0. 0. 0. 0.]\n",
      " [0. 0. 0. 0.]\n",
      " [0. 0. 0. 0.]\n",
      " [0. 0. 0. 0.]\n",
      " [0. 0. 0. 0.]\n",
      " [0. 0. 0. 0.]\n",
      " [0. 0. 0. 0.]\n",
      " [0. 0. 0. 0.]\n",
      " [0. 0. 0. 0.]\n",
      " [0. 0. 0. 0.]\n",
      " [0. 0. 0. 0.]\n",
      " [0. 0. 0. 0.]\n",
      " [0. 0. 0. 0.]\n",
      " [0. 0. 0. 0.]\n",
      " [0. 0. 0. 0.]\n",
      " [0. 0. 0. 0.]\n",
      " [0. 0. 0. 0.]\n",
      " [0. 0. 0. 0.]\n",
      " [0. 0. 0. 0.]\n",
      " [0. 0. 0. 0.]\n",
      " [0. 0. 0. 0.]\n",
      " [0. 0. 0. 0.]\n",
      " [0. 0. 0. 0.]\n",
      " [0. 0. 0. 0.]\n",
      " [0. 0. 0. 0.]\n",
      " [0. 0. 0. 0.]\n",
      " [0. 0. 0. 0.]\n",
      " [0. 0. 0. 0.]\n",
      " [0. 0. 0. 0.]\n",
      " [0. 0. 0. 0.]\n",
      " [0. 0. 0. 0.]\n",
      " [0. 0. 0. 0.]\n",
      " [0. 0. 0. 0.]\n",
      " [0. 0. 0. 0.]\n",
      " [0. 0. 0. 0.]\n",
      " [0. 0. 0. 0.]\n",
      " [0. 0. 0. 0.]\n",
      " [0. 0. 0. 0.]\n",
      " [0. 0. 0. 0.]\n",
      " [0. 0. 0. 0.]\n",
      " [0. 0. 0. 0.]\n",
      " [0. 0. 0. 0.]\n",
      " [0. 0. 0. 0.]\n",
      " [0. 0. 0. 0.]\n",
      " [0. 0. 0. 0.]\n",
      " [0. 0. 0. 0.]\n",
      " [0. 0. 0. 0.]\n",
      " [0. 0. 0. 0.]]\n"
     ]
    }
   ],
   "source": [
    "#Q - Tabelle mit Nullern gefüllt erstellen mit 48 Zeichen nach Zustandsvariablen und 4 Spalten nach Aktionen\n",
    "\n",
    "q_table = np.zeros((48,4))\n",
    "print(q_table)\n",
    "\n",
    "#Parameter festlegen\n",
    "\n",
    "alpha = 0.1 \n",
    "gamma = 0.6\n",
    "epsilon = 0.1\n",
    "episoden = 10\n"
   ]
  },
  {
   "cell_type": "code",
   "execution_count": 22,
   "metadata": {},
   "outputs": [
    {
     "name": "stdout",
     "output_type": "stream",
     "text": [
      "(36, {'prob': 1})\n",
      "(24, -1, False, False, {'prob': 1.0})\n"
     ]
    },
    {
     "ename": "TypeError",
     "evalue": "'int' object is not subscriptable",
     "output_type": "error",
     "traceback": [
      "\u001b[1;31m---------------------------------------------------------------------------\u001b[0m",
      "\u001b[1;31mTypeError\u001b[0m                                 Traceback (most recent call last)",
      "\u001b[1;32md:\\Geschäftlich\\Uni\\Semester 6\\Aktuelle Data Science Entwicklungen\\Abgabe\\RL2 aktuell.ipynb Cell 5\u001b[0m in \u001b[0;36m<cell line: 1>\u001b[1;34m()\u001b[0m\n\u001b[0;32m     <a href='vscode-notebook-cell:/d%3A/Gesch%C3%A4ftlich/Uni/Semester%206/Aktuelle%20Data%20Science%20Entwicklungen/Abgabe/RL2%20aktuell.ipynb#W4sZmlsZQ%3D%3D?line=13'>14</a>\u001b[0m     action \u001b[39m=\u001b[39m env\u001b[39m.\u001b[39maction_space\u001b[39m.\u001b[39msample()\n\u001b[0;32m     <a href='vscode-notebook-cell:/d%3A/Gesch%C3%A4ftlich/Uni/Semester%206/Aktuelle%20Data%20Science%20Entwicklungen/Abgabe/RL2%20aktuell.ipynb#W4sZmlsZQ%3D%3D?line=14'>15</a>\u001b[0m \u001b[39melse\u001b[39;00m:\n\u001b[0;32m     <a href='vscode-notebook-cell:/d%3A/Gesch%C3%A4ftlich/Uni/Semester%206/Aktuelle%20Data%20Science%20Entwicklungen/Abgabe/RL2%20aktuell.ipynb#W4sZmlsZQ%3D%3D?line=15'>16</a>\u001b[0m     \u001b[39m#Beste Aktion aus Tabelle \u001b[39;00m\n\u001b[1;32m---> <a href='vscode-notebook-cell:/d%3A/Gesch%C3%A4ftlich/Uni/Semester%206/Aktuelle%20Data%20Science%20Entwicklungen/Abgabe/RL2%20aktuell.ipynb#W4sZmlsZQ%3D%3D?line=16'>17</a>\u001b[0m     action \u001b[39m=\u001b[39m np\u001b[39m.\u001b[39margmax(q_table[state[\u001b[39m0\u001b[39;49m]])        \n\u001b[0;32m     <a href='vscode-notebook-cell:/d%3A/Gesch%C3%A4ftlich/Uni/Semester%206/Aktuelle%20Data%20Science%20Entwicklungen/Abgabe/RL2%20aktuell.ipynb#W4sZmlsZQ%3D%3D?line=18'>19</a>\u001b[0m \u001b[39m#Nächsten Schritt definieren\u001b[39;00m\n\u001b[0;32m     <a href='vscode-notebook-cell:/d%3A/Gesch%C3%A4ftlich/Uni/Semester%206/Aktuelle%20Data%20Science%20Entwicklungen/Abgabe/RL2%20aktuell.ipynb#W4sZmlsZQ%3D%3D?line=19'>20</a>\u001b[0m next_state_ \u001b[39m=\u001b[39m env\u001b[39m.\u001b[39mstep(action)  \n",
      "\u001b[1;31mTypeError\u001b[0m: 'int' object is not subscriptable"
     ]
    }
   ],
   "source": [
    "for i in range(episoden):\n",
    "    #Setzt den Status der Umgebung auf Anfang zurück\n",
    "    state = env.reset()\n",
    "\n",
    "    epochs, penalties, reward, = 0, 0, 0\n",
    "    done = False\n",
    "\n",
    "    print(state)\n",
    "    \n",
    "    while not done:\n",
    "        #Prüft, ob ein Zufälliger Wert kleiner ist als der Epsilon Wert\n",
    "        if random.uniform(0, 1) < epsilon:\n",
    "            #Zufällige Aktion\n",
    "            action = env.action_space.sample()\n",
    "        else:\n",
    "            #Beste Aktion aus Tabelle \n",
    "            action = np.argmax(q_table[state[0]])        \n",
    "\n",
    "        #Nächsten Schritt definieren\n",
    "        next_state_ = env.step(action)  \n",
    "        \n",
    "        next_state = next_state_[0]  \n",
    "        reward = next_state_[1]  \n",
    "        done = next_state_[2]  \n",
    "        print(next_state_)\n",
    "        \n",
    "        #Zustand ersetzen mit Bellmann Gleichung \n",
    "        old_value = q_table[state[0], action]\n",
    "        next_max = np.max(q_table[next_state])\n",
    "        \n",
    "        new_value = (1 - alpha) * old_value + alpha * (reward + gamma * next_max)\n",
    "        q_table[state[0], action] = new_value\n",
    "\n",
    "        #Passt die Strafe an\n",
    "        if reward == -10:\n",
    "            penalties += 1\n",
    "\n",
    "        #durchgeführte Schritte\n",
    "        state = next_state\n",
    "        epochs += 1\n",
    "\n",
    "    #Löscht Output    \n",
    "    if i % 100 == 0:\n",
    "        clear_output(wait=True)\n",
    "        print(f\"Episode: {i}\")\n",
    "\n",
    "print(\"Training finished.\\n\")\n"
   ]
  },
  {
   "cell_type": "markdown",
   "metadata": {},
   "source": [
    "### Quellen\n",
    "\n",
    "- Zelle 2,3: https://towardsdatascience.com/creating-a-custom-gym-environment-for-jupyter-notebooks-e17024474617\n",
    "- Zelle 4,5: https://www.learndatasci.com/tutorials/reinforcement-q-learning-scratch-python-openai-gym/"
   ]
  }
 ],
 "metadata": {
  "kernelspec": {
   "display_name": "unipython",
   "language": "python",
   "name": "python3"
  },
  "language_info": {
   "codemirror_mode": {
    "name": "ipython",
    "version": 3
   },
   "file_extension": ".py",
   "mimetype": "text/x-python",
   "name": "python",
   "nbconvert_exporter": "python",
   "pygments_lexer": "ipython3",
   "version": "3.8.10"
  },
  "orig_nbformat": 4
 },
 "nbformat": 4,
 "nbformat_minor": 2
}
